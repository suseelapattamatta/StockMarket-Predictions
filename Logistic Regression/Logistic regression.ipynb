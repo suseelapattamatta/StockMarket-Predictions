{
 "cells": [
  {
   "cell_type": "code",
   "execution_count": 1,
   "metadata": {},
   "outputs": [],
   "source": [
    "from sklearn.feature_extraction.text import CountVectorizer\n",
    "from sklearn.linear_model import LogisticRegression\n",
    "import pandas as pd\n",
    "import re\n",
    "from nltk.stem import WordNetLemmatizer \n",
    "START_TOKEN = '<START>'\n",
    "END_TOKEN = '<END>'"
   ]
  },
  {
   "cell_type": "code",
   "execution_count": 2,
   "metadata": {},
   "outputs": [],
   "source": [
    "def process_news(news):\n",
    "    _news = news.replace('b\\\"', \"\")\n",
    "    _news = _news.replace('b\\'', \"\")\n",
    "    _news = _news.lower()\n",
    "    _news = re.sub(\"[^a-zA-Z]\", \" \",_news)\n",
    "    _news = re.sub('[\\s]+', ' ', _news)\n",
    "    \n",
    "    _news = _news.split(\" \")\n",
    "    if \"\" in _news:\n",
    "        _news.remove(\"\")\n",
    "    \n",
    "    #lemmatizer = WordNetLemmatizer() \n",
    "    \n",
    "    #_news = [lemmatizer.lemmatize(w) for w in _news]\n",
    "    \n",
    "    _news = ' '.join(_news)\n",
    "     \n",
    "    return _news"
   ]
  },
  {
   "cell_type": "code",
   "execution_count": 3,
   "metadata": {},
   "outputs": [],
   "source": [
    "def read_data():\n",
    "\n",
    "    data = pd.read_csv(\"../Datasets/djia/Combined_News_DJIA.csv\")\n",
    "    \n",
    "    print(len(data))\n",
    "    \n",
    "    dfs = []\n",
    "    data[\"News\"] = \"\"\n",
    "    for i in range(1,25):\n",
    "        col = \"Top\"+str(i)\n",
    "        data[\"News\"] = data[\"News\"] +\" \"+ data[col]\n",
    "    data = data.dropna()\n",
    "    data['Tokens'] = data['News'].map(process_news)\n",
    "    \n",
    "    data = data[['Date', 'News', 'Tokens', 'Label']]\n",
    "\n",
    "    \n",
    "    \n",
    "    \n",
    "    Xy_train = data[:int(len(data)*0.8)]\n",
    "    Xy_test = data[int(len(data)*0.8):]\n",
    "    \n",
    "    Xy_train = data[data['Date'] < '20150101']\n",
    "    Xy_test = data[data['Date'] > '20141231']\n",
    "    \n",
    "    return data, Xy_train, Xy_test\n"
   ]
  },
  {
   "cell_type": "code",
   "execution_count": 4,
   "metadata": {},
   "outputs": [
    {
     "name": "stdout",
     "output_type": "stream",
     "text": [
      "1989\n"
     ]
    }
   ],
   "source": [
    "news, Xy_train, Xy_test = read_data()"
   ]
  },
  {
   "cell_type": "code",
   "execution_count": 5,
   "metadata": {},
   "outputs": [
    {
     "name": "stdout",
     "output_type": "stream",
     "text": [
      "1986\n",
      "1608\n",
      "378\n"
     ]
    }
   ],
   "source": [
    "print(len(news))\n",
    "print(len(news[news['Date'] < '20141231']))\n",
    "print(len(news[news['Date'] > '20141231']))"
   ]
  },
  {
   "cell_type": "code",
   "execution_count": 6,
   "metadata": {},
   "outputs": [
    {
     "data": {
      "text/html": [
       "<div>\n",
       "<style scoped>\n",
       "    .dataframe tbody tr th:only-of-type {\n",
       "        vertical-align: middle;\n",
       "    }\n",
       "\n",
       "    .dataframe tbody tr th {\n",
       "        vertical-align: top;\n",
       "    }\n",
       "\n",
       "    .dataframe thead th {\n",
       "        text-align: right;\n",
       "    }\n",
       "</style>\n",
       "<table border=\"1\" class=\"dataframe\">\n",
       "  <thead>\n",
       "    <tr style=\"text-align: right;\">\n",
       "      <th></th>\n",
       "      <th>Date</th>\n",
       "      <th>News</th>\n",
       "      <th>Tokens</th>\n",
       "      <th>Label</th>\n",
       "    </tr>\n",
       "  </thead>\n",
       "  <tbody>\n",
       "    <tr>\n",
       "      <td>1843</td>\n",
       "      <td>2015-12-03</td>\n",
       "      <td>UK Parliament Vote in Favor of Airstrikes in ...</td>\n",
       "      <td>uk parliament vote in favor of airstrikes in s...</td>\n",
       "      <td>0</td>\n",
       "    </tr>\n",
       "    <tr>\n",
       "      <td>1844</td>\n",
       "      <td>2015-12-04</td>\n",
       "      <td>World's largest Muslim group, Sunni movement ...</td>\n",
       "      <td>world s largest muslim group sunni movement la...</td>\n",
       "      <td>1</td>\n",
       "    </tr>\n",
       "    <tr>\n",
       "      <td>1845</td>\n",
       "      <td>2015-12-07</td>\n",
       "      <td>Beijing has issued its first ever Red Alert o...</td>\n",
       "      <td>beijing has issued its first ever red alert ov...</td>\n",
       "      <td>0</td>\n",
       "    </tr>\n",
       "    <tr>\n",
       "      <td>1846</td>\n",
       "      <td>2015-12-08</td>\n",
       "      <td>Resistance to last-resort antibiotic has now ...</td>\n",
       "      <td>resistance to last resort antibiotic has now s...</td>\n",
       "      <td>0</td>\n",
       "    </tr>\n",
       "    <tr>\n",
       "      <td>1847</td>\n",
       "      <td>2015-12-09</td>\n",
       "      <td>Saudi Arabia accused of trying to wreck Paris...</td>\n",
       "      <td>saudi arabia accused of trying to wreck paris ...</td>\n",
       "      <td>0</td>\n",
       "    </tr>\n",
       "    <tr>\n",
       "      <td>1848</td>\n",
       "      <td>2015-12-10</td>\n",
       "      <td>\"The US State Department has approved a $1.29...</td>\n",
       "      <td>the us state department has approved a billion...</td>\n",
       "      <td>1</td>\n",
       "    </tr>\n",
       "    <tr>\n",
       "      <td>1849</td>\n",
       "      <td>2015-12-11</td>\n",
       "      <td>France will not ban Wi-Fi or Tor, prime minis...</td>\n",
       "      <td>france will not ban wi fi or tor prime ministe...</td>\n",
       "      <td>0</td>\n",
       "    </tr>\n",
       "    <tr>\n",
       "      <td>1850</td>\n",
       "      <td>2015-12-14</td>\n",
       "      <td>Saudi Arabia elects up to 17 female councillo...</td>\n",
       "      <td>saudi arabia elects up to female councillors i...</td>\n",
       "      <td>1</td>\n",
       "    </tr>\n",
       "    <tr>\n",
       "      <td>1851</td>\n",
       "      <td>2015-12-15</td>\n",
       "      <td>Just miles from the US border, Lexmark fires ...</td>\n",
       "      <td>just miles from the us border lexmark fires lo...</td>\n",
       "      <td>1</td>\n",
       "    </tr>\n",
       "    <tr>\n",
       "      <td>1852</td>\n",
       "      <td>2015-12-16</td>\n",
       "      <td>Donald Trump loses Scottish windfarm appeal N...</td>\n",
       "      <td>donald trump loses scottish windfarm appeal no...</td>\n",
       "      <td>1</td>\n",
       "    </tr>\n",
       "    <tr>\n",
       "      <td>1853</td>\n",
       "      <td>2015-12-17</td>\n",
       "      <td>Martin Schkreli - Turing CEO who increased th...</td>\n",
       "      <td>martin schkreli turing ceo who increased the p...</td>\n",
       "      <td>0</td>\n",
       "    </tr>\n",
       "    <tr>\n",
       "      <td>1854</td>\n",
       "      <td>2015-12-18</td>\n",
       "      <td>Models must have doctor's note to prove they ...</td>\n",
       "      <td>models must have doctor s note to prove they a...</td>\n",
       "      <td>0</td>\n",
       "    </tr>\n",
       "    <tr>\n",
       "      <td>1855</td>\n",
       "      <td>2015-12-21</td>\n",
       "      <td>Fifa president Sepp Blatter and Uefa boss Mic...</td>\n",
       "      <td>fifa president sepp blatter and uefa boss mich...</td>\n",
       "      <td>1</td>\n",
       "    </tr>\n",
       "    <tr>\n",
       "      <td>1856</td>\n",
       "      <td>2015-12-22</td>\n",
       "      <td>SpaceXs Falcon 9 rocket successfully lands up...</td>\n",
       "      <td>spacexs falcon rocket successfully lands uprig...</td>\n",
       "      <td>1</td>\n",
       "    </tr>\n",
       "    <tr>\n",
       "      <td>1857</td>\n",
       "      <td>2015-12-23</td>\n",
       "      <td>New law in India would try teens as adults fo...</td>\n",
       "      <td>new law in india would try teens as adults for...</td>\n",
       "      <td>1</td>\n",
       "    </tr>\n",
       "    <tr>\n",
       "      <td>1858</td>\n",
       "      <td>2015-12-24</td>\n",
       "      <td>Brazil declares emergency after 2,400 babies ...</td>\n",
       "      <td>brazil declares emergency after babies are bor...</td>\n",
       "      <td>0</td>\n",
       "    </tr>\n",
       "    <tr>\n",
       "      <td>1859</td>\n",
       "      <td>2015-12-28</td>\n",
       "      <td>Germany recruits 8,500 teachers to teach Germ...</td>\n",
       "      <td>germany recruits teachers to teach german to c...</td>\n",
       "      <td>0</td>\n",
       "    </tr>\n",
       "    <tr>\n",
       "      <td>1860</td>\n",
       "      <td>2015-12-29</td>\n",
       "      <td>Pentagon thwarts Obama's effort to close Guan...</td>\n",
       "      <td>pentagon thwarts obama s effort to close guant...</td>\n",
       "      <td>1</td>\n",
       "    </tr>\n",
       "    <tr>\n",
       "      <td>1861</td>\n",
       "      <td>2015-12-30</td>\n",
       "      <td>Tech companies face criminal charges if they ...</td>\n",
       "      <td>tech companies face criminal charges if they n...</td>\n",
       "      <td>0</td>\n",
       "    </tr>\n",
       "    <tr>\n",
       "      <td>1862</td>\n",
       "      <td>2015-12-31</td>\n",
       "      <td>Microsoft Corp said on Wednesday it will begi...</td>\n",
       "      <td>microsoft corp said on wednesday it will begin...</td>\n",
       "      <td>0</td>\n",
       "    </tr>\n",
       "  </tbody>\n",
       "</table>\n",
       "</div>"
      ],
      "text/plain": [
       "            Date                                               News  \\\n",
       "1843  2015-12-03   UK Parliament Vote in Favor of Airstrikes in ...   \n",
       "1844  2015-12-04   World's largest Muslim group, Sunni movement ...   \n",
       "1845  2015-12-07   Beijing has issued its first ever Red Alert o...   \n",
       "1846  2015-12-08   Resistance to last-resort antibiotic has now ...   \n",
       "1847  2015-12-09   Saudi Arabia accused of trying to wreck Paris...   \n",
       "1848  2015-12-10   \"The US State Department has approved a $1.29...   \n",
       "1849  2015-12-11   France will not ban Wi-Fi or Tor, prime minis...   \n",
       "1850  2015-12-14   Saudi Arabia elects up to 17 female councillo...   \n",
       "1851  2015-12-15   Just miles from the US border, Lexmark fires ...   \n",
       "1852  2015-12-16   Donald Trump loses Scottish windfarm appeal N...   \n",
       "1853  2015-12-17   Martin Schkreli - Turing CEO who increased th...   \n",
       "1854  2015-12-18   Models must have doctor's note to prove they ...   \n",
       "1855  2015-12-21   Fifa president Sepp Blatter and Uefa boss Mic...   \n",
       "1856  2015-12-22   SpaceXs Falcon 9 rocket successfully lands up...   \n",
       "1857  2015-12-23   New law in India would try teens as adults fo...   \n",
       "1858  2015-12-24   Brazil declares emergency after 2,400 babies ...   \n",
       "1859  2015-12-28   Germany recruits 8,500 teachers to teach Germ...   \n",
       "1860  2015-12-29   Pentagon thwarts Obama's effort to close Guan...   \n",
       "1861  2015-12-30   Tech companies face criminal charges if they ...   \n",
       "1862  2015-12-31   Microsoft Corp said on Wednesday it will begi...   \n",
       "\n",
       "                                                 Tokens  Label  \n",
       "1843  uk parliament vote in favor of airstrikes in s...      0  \n",
       "1844  world s largest muslim group sunni movement la...      1  \n",
       "1845  beijing has issued its first ever red alert ov...      0  \n",
       "1846  resistance to last resort antibiotic has now s...      0  \n",
       "1847  saudi arabia accused of trying to wreck paris ...      0  \n",
       "1848  the us state department has approved a billion...      1  \n",
       "1849  france will not ban wi fi or tor prime ministe...      0  \n",
       "1850  saudi arabia elects up to female councillors i...      1  \n",
       "1851  just miles from the us border lexmark fires lo...      1  \n",
       "1852  donald trump loses scottish windfarm appeal no...      1  \n",
       "1853  martin schkreli turing ceo who increased the p...      0  \n",
       "1854  models must have doctor s note to prove they a...      0  \n",
       "1855  fifa president sepp blatter and uefa boss mich...      1  \n",
       "1856  spacexs falcon rocket successfully lands uprig...      1  \n",
       "1857  new law in india would try teens as adults for...      1  \n",
       "1858  brazil declares emergency after babies are bor...      0  \n",
       "1859  germany recruits teachers to teach german to c...      0  \n",
       "1860  pentagon thwarts obama s effort to close guant...      1  \n",
       "1861  tech companies face criminal charges if they n...      0  \n",
       "1862  microsoft corp said on wednesday it will begin...      0  "
      ]
     },
     "execution_count": 6,
     "metadata": {},
     "output_type": "execute_result"
    }
   ],
   "source": [
    "news[news['Date'] < '20150101'].tail(20)"
   ]
  },
  {
   "cell_type": "code",
   "execution_count": 7,
   "metadata": {},
   "outputs": [
    {
     "data": {
      "text/html": [
       "<div>\n",
       "<style scoped>\n",
       "    .dataframe tbody tr th:only-of-type {\n",
       "        vertical-align: middle;\n",
       "    }\n",
       "\n",
       "    .dataframe tbody tr th {\n",
       "        vertical-align: top;\n",
       "    }\n",
       "\n",
       "    .dataframe thead th {\n",
       "        text-align: right;\n",
       "    }\n",
       "</style>\n",
       "<table border=\"1\" class=\"dataframe\">\n",
       "  <thead>\n",
       "    <tr style=\"text-align: right;\">\n",
       "      <th></th>\n",
       "      <th>Date</th>\n",
       "      <th>News</th>\n",
       "      <th>Tokens</th>\n",
       "      <th>Label</th>\n",
       "    </tr>\n",
       "  </thead>\n",
       "  <tbody>\n",
       "    <tr>\n",
       "      <td>1611</td>\n",
       "      <td>2015-01-02</td>\n",
       "      <td>Most cases of cancer are the result of sheer ...</td>\n",
       "      <td>most cases of cancer are the result of sheer b...</td>\n",
       "      <td>1</td>\n",
       "    </tr>\n",
       "    <tr>\n",
       "      <td>1612</td>\n",
       "      <td>2015-01-05</td>\n",
       "      <td>Moscow-&amp;gt;Beijing high speed train will redu...</td>\n",
       "      <td>moscow gt beijing high speed train will reduce...</td>\n",
       "      <td>0</td>\n",
       "    </tr>\n",
       "    <tr>\n",
       "      <td>1613</td>\n",
       "      <td>2015-01-06</td>\n",
       "      <td>US oil falls below $50 a barrel Toyota gives ...</td>\n",
       "      <td>us oil falls below a barrel toyota gives away ...</td>\n",
       "      <td>0</td>\n",
       "    </tr>\n",
       "    <tr>\n",
       "      <td>1614</td>\n",
       "      <td>2015-01-07</td>\n",
       "      <td>'Shots fired' at French magazine HQ 90% of Bi...</td>\n",
       "      <td>shots fired at french magazine hq of bibi neta...</td>\n",
       "      <td>1</td>\n",
       "    </tr>\n",
       "    <tr>\n",
       "      <td>1615</td>\n",
       "      <td>2015-01-08</td>\n",
       "      <td>New Charlie Hebdo issue to come out next week...</td>\n",
       "      <td>new charlie hebdo issue to come out next week ...</td>\n",
       "      <td>1</td>\n",
       "    </tr>\n",
       "    <tr>\n",
       "      <td>1616</td>\n",
       "      <td>2015-01-09</td>\n",
       "      <td>Muslim politician from India who offered $8M ...</td>\n",
       "      <td>muslim politician from india who offered m to ...</td>\n",
       "      <td>0</td>\n",
       "    </tr>\n",
       "    <tr>\n",
       "      <td>1617</td>\n",
       "      <td>2015-01-12</td>\n",
       "      <td>World's largest indoor farm in Japan is 100 t...</td>\n",
       "      <td>world s largest indoor farm in japan is times ...</td>\n",
       "      <td>0</td>\n",
       "    </tr>\n",
       "    <tr>\n",
       "      <td>1618</td>\n",
       "      <td>2015-01-13</td>\n",
       "      <td>China has just banned the burqa in its bigges...</td>\n",
       "      <td>china has just banned the burqa in its biggest...</td>\n",
       "      <td>0</td>\n",
       "    </tr>\n",
       "    <tr>\n",
       "      <td>1619</td>\n",
       "      <td>2015-01-14</td>\n",
       "      <td>Cameroon Army Kills 143 Boko Haram Fighters A...</td>\n",
       "      <td>cameroon army kills boko haram fighters air fr...</td>\n",
       "      <td>0</td>\n",
       "    </tr>\n",
       "    <tr>\n",
       "      <td>1620</td>\n",
       "      <td>2015-01-15</td>\n",
       "      <td>Saudi man sentenced 10 years jail and weekly ...</td>\n",
       "      <td>saudi man sentenced years jail and weekly publ...</td>\n",
       "      <td>0</td>\n",
       "    </tr>\n",
       "    <tr>\n",
       "      <td>1621</td>\n",
       "      <td>2015-01-16</td>\n",
       "      <td>Saudi Arabia publicly beheads a woman in Mecc...</td>\n",
       "      <td>saudi arabia publicly beheads a woman in mecca...</td>\n",
       "      <td>1</td>\n",
       "    </tr>\n",
       "    <tr>\n",
       "      <td>1622</td>\n",
       "      <td>2015-01-20</td>\n",
       "      <td>Good News. Tiger Numbers in India up From 1,4...</td>\n",
       "      <td>good news tiger numbers in india up from to in...</td>\n",
       "      <td>1</td>\n",
       "    </tr>\n",
       "    <tr>\n",
       "      <td>1623</td>\n",
       "      <td>2015-01-21</td>\n",
       "      <td>Ebola has killed off a third of the world's g...</td>\n",
       "      <td>ebola has killed off a third of the world s go...</td>\n",
       "      <td>1</td>\n",
       "    </tr>\n",
       "    <tr>\n",
       "      <td>1624</td>\n",
       "      <td>2015-01-22</td>\n",
       "      <td>ISIS Suffers Heaviest Defeat in Iraq in a Sin...</td>\n",
       "      <td>isis suffers heaviest defeat in iraq in a sing...</td>\n",
       "      <td>1</td>\n",
       "    </tr>\n",
       "    <tr>\n",
       "      <td>1625</td>\n",
       "      <td>2015-01-23</td>\n",
       "      <td>Kurds Not Invited to Anti-ISIS Conference in ...</td>\n",
       "      <td>kurds not invited to anti isis conference in l...</td>\n",
       "      <td>0</td>\n",
       "    </tr>\n",
       "    <tr>\n",
       "      <td>1626</td>\n",
       "      <td>2015-01-26</td>\n",
       "      <td>WikiLeaks demands answers after Google hands ...</td>\n",
       "      <td>wikileaks demands answers after google hands s...</td>\n",
       "      <td>1</td>\n",
       "    </tr>\n",
       "    <tr>\n",
       "      <td>1627</td>\n",
       "      <td>2015-01-27</td>\n",
       "      <td>Greece's new finance minister Yanis Varoufaki...</td>\n",
       "      <td>greece s new finance minister yanis varoufakis...</td>\n",
       "      <td>0</td>\n",
       "    </tr>\n",
       "    <tr>\n",
       "      <td>1628</td>\n",
       "      <td>2015-01-28</td>\n",
       "      <td>Key Hepatitis C Patent Rejected In India, Cle...</td>\n",
       "      <td>key hepatitis c patent rejected in india clear...</td>\n",
       "      <td>0</td>\n",
       "    </tr>\n",
       "    <tr>\n",
       "      <td>1629</td>\n",
       "      <td>2015-01-29</td>\n",
       "      <td>Boko Haram appears to have surrounded city of...</td>\n",
       "      <td>boko haram appears to have surrounded city of ...</td>\n",
       "      <td>1</td>\n",
       "    </tr>\n",
       "    <tr>\n",
       "      <td>1630</td>\n",
       "      <td>2015-01-30</td>\n",
       "      <td>A rare megamouth shark just washed up in the ...</td>\n",
       "      <td>a rare megamouth shark just washed up in the p...</td>\n",
       "      <td>0</td>\n",
       "    </tr>\n",
       "  </tbody>\n",
       "</table>\n",
       "</div>"
      ],
      "text/plain": [
       "            Date                                               News  \\\n",
       "1611  2015-01-02   Most cases of cancer are the result of sheer ...   \n",
       "1612  2015-01-05   Moscow-&gt;Beijing high speed train will redu...   \n",
       "1613  2015-01-06   US oil falls below $50 a barrel Toyota gives ...   \n",
       "1614  2015-01-07   'Shots fired' at French magazine HQ 90% of Bi...   \n",
       "1615  2015-01-08   New Charlie Hebdo issue to come out next week...   \n",
       "1616  2015-01-09   Muslim politician from India who offered $8M ...   \n",
       "1617  2015-01-12   World's largest indoor farm in Japan is 100 t...   \n",
       "1618  2015-01-13   China has just banned the burqa in its bigges...   \n",
       "1619  2015-01-14   Cameroon Army Kills 143 Boko Haram Fighters A...   \n",
       "1620  2015-01-15   Saudi man sentenced 10 years jail and weekly ...   \n",
       "1621  2015-01-16   Saudi Arabia publicly beheads a woman in Mecc...   \n",
       "1622  2015-01-20   Good News. Tiger Numbers in India up From 1,4...   \n",
       "1623  2015-01-21   Ebola has killed off a third of the world's g...   \n",
       "1624  2015-01-22   ISIS Suffers Heaviest Defeat in Iraq in a Sin...   \n",
       "1625  2015-01-23   Kurds Not Invited to Anti-ISIS Conference in ...   \n",
       "1626  2015-01-26   WikiLeaks demands answers after Google hands ...   \n",
       "1627  2015-01-27   Greece's new finance minister Yanis Varoufaki...   \n",
       "1628  2015-01-28   Key Hepatitis C Patent Rejected In India, Cle...   \n",
       "1629  2015-01-29   Boko Haram appears to have surrounded city of...   \n",
       "1630  2015-01-30   A rare megamouth shark just washed up in the ...   \n",
       "\n",
       "                                                 Tokens  Label  \n",
       "1611  most cases of cancer are the result of sheer b...      1  \n",
       "1612  moscow gt beijing high speed train will reduce...      0  \n",
       "1613  us oil falls below a barrel toyota gives away ...      0  \n",
       "1614  shots fired at french magazine hq of bibi neta...      1  \n",
       "1615  new charlie hebdo issue to come out next week ...      1  \n",
       "1616  muslim politician from india who offered m to ...      0  \n",
       "1617  world s largest indoor farm in japan is times ...      0  \n",
       "1618  china has just banned the burqa in its biggest...      0  \n",
       "1619  cameroon army kills boko haram fighters air fr...      0  \n",
       "1620  saudi man sentenced years jail and weekly publ...      0  \n",
       "1621  saudi arabia publicly beheads a woman in mecca...      1  \n",
       "1622  good news tiger numbers in india up from to in...      1  \n",
       "1623  ebola has killed off a third of the world s go...      1  \n",
       "1624  isis suffers heaviest defeat in iraq in a sing...      1  \n",
       "1625  kurds not invited to anti isis conference in l...      0  \n",
       "1626  wikileaks demands answers after google hands s...      1  \n",
       "1627  greece s new finance minister yanis varoufakis...      0  \n",
       "1628  key hepatitis c patent rejected in india clear...      0  \n",
       "1629  boko haram appears to have surrounded city of ...      1  \n",
       "1630  a rare megamouth shark just washed up in the p...      0  "
      ]
     },
     "execution_count": 7,
     "metadata": {},
     "output_type": "execute_result"
    }
   ],
   "source": [
    "news[news['Date'] > '20141231'].head(20)"
   ]
  },
  {
   "cell_type": "code",
   "execution_count": 8,
   "metadata": {},
   "outputs": [
    {
     "data": {
      "text/plain": [
       "1591.2"
      ]
     },
     "execution_count": 8,
     "metadata": {},
     "output_type": "execute_result"
    }
   ],
   "source": [
    "1989*0.8"
   ]
  },
  {
   "cell_type": "code",
   "execution_count": 9,
   "metadata": {},
   "outputs": [
    {
     "data": {
      "text/plain": [
       "1860"
      ]
     },
     "execution_count": 9,
     "metadata": {},
     "output_type": "execute_result"
    }
   ],
   "source": [
    "len(Xy_train)"
   ]
  },
  {
   "cell_type": "code",
   "execution_count": 10,
   "metadata": {},
   "outputs": [
    {
     "data": {
      "text/plain": [
       "0.9351432880844646"
      ]
     },
     "execution_count": 10,
     "metadata": {},
     "output_type": "execute_result"
    }
   ],
   "source": [
    "1860/1989"
   ]
  },
  {
   "cell_type": "code",
   "execution_count": 11,
   "metadata": {},
   "outputs": [
    {
     "data": {
      "text/plain": [
       "378"
      ]
     },
     "execution_count": 11,
     "metadata": {},
     "output_type": "execute_result"
    }
   ],
   "source": [
    "len(Xy_test)"
   ]
  },
  {
   "cell_type": "code",
   "execution_count": 12,
   "metadata": {},
   "outputs": [
    {
     "data": {
      "text/plain": [
       "0.19004524886877827"
      ]
     },
     "execution_count": 12,
     "metadata": {},
     "output_type": "execute_result"
    }
   ],
   "source": [
    "378/1989"
   ]
  },
  {
   "cell_type": "code",
   "execution_count": 13,
   "metadata": {},
   "outputs": [
    {
     "data": {
      "text/plain": [
       "'why wont america and nato help us if they wont help us now why did we help them in iraq bush puts foot down on georgian conflict jewish georgian minister thanks to israeli training we re fending off russia georgian army flees in disarray as russians advance gori abandoned to russia without a shot fired olympic opening ceremony fireworks faked what were the mossad with fraudulent new zealand passports doing in iraq russia angered by israeli military sale to georgia an american citizen living in s ossetia blames u s and georgian leaders for the genocide of innocent people welcome to world war iv now in high definition georgia s move a mistake of monumental proportions russia presses deeper into georgia u s says regime change is goal abhinav bindra wins first ever individual olympic gold medal for india u s ship heads for arctic to define territory drivers in a jerusalem taxi station threaten to quit rather than work for their new boss an ara the french team is stunned by phelps and the x m relay team israel and the us behind the georgian aggression do not believe tv neither russian nor georgian there are much more victims riots are still going on in montreal canada because police murdered a boy on saturday china to overtake us as largest manufacturer war in south ossetia pics israeli physicians group condemns state torture russia has just beaten the united states over the head with peak oil perhaps the question about the georgia russia conflict russia is so much better at war '"
      ]
     },
     "execution_count": 13,
     "metadata": {},
     "output_type": "execute_result"
    }
   ],
   "source": [
    "Xy_train['Tokens'][1]"
   ]
  },
  {
   "cell_type": "code",
   "execution_count": 14,
   "metadata": {},
   "outputs": [],
   "source": [
    "vectorizer = CountVectorizer(ngram_range=(1,2))\n",
    "X_train = vectorizer.fit_transform(Xy_train['Tokens'].values)"
   ]
  },
  {
   "cell_type": "code",
   "execution_count": 15,
   "metadata": {},
   "outputs": [
    {
     "name": "stdout",
     "output_type": "stream",
     "text": [
      "(1860, 422925)\n"
     ]
    }
   ],
   "source": [
    "print(X_train.shape)"
   ]
  },
  {
   "cell_type": "code",
   "execution_count": 16,
   "metadata": {},
   "outputs": [
    {
     "data": {
      "text/plain": [
       "<1x422925 sparse matrix of type '<class 'numpy.int64'>'\n",
       "\twith 562 stored elements in Compressed Sparse Row format>"
      ]
     },
     "execution_count": 16,
     "metadata": {},
     "output_type": "execute_result"
    }
   ],
   "source": [
    "X_train[0][0][0]"
   ]
  },
  {
   "cell_type": "code",
   "execution_count": 17,
   "metadata": {},
   "outputs": [
    {
     "name": "stderr",
     "output_type": "stream",
     "text": [
      "C:\\Users\\sriku\\Anaconda3\\lib\\site-packages\\sklearn\\linear_model\\logistic.py:432: FutureWarning: Default solver will be changed to 'lbfgs' in 0.22. Specify a solver to silence this warning.\n",
      "  FutureWarning)\n"
     ]
    }
   ],
   "source": [
    "model = LogisticRegression()\n",
    "model = model.fit(X_train, Xy_train[\"Label\"])"
   ]
  },
  {
   "cell_type": "code",
   "execution_count": 18,
   "metadata": {},
   "outputs": [
    {
     "data": {
      "text/plain": [
       "378"
      ]
     },
     "execution_count": 18,
     "metadata": {},
     "output_type": "execute_result"
    }
   ],
   "source": [
    "len(Xy_test)"
   ]
  },
  {
   "cell_type": "code",
   "execution_count": 19,
   "metadata": {},
   "outputs": [],
   "source": [
    "X_test = vectorizer.transform(Xy_test['Tokens'].values)\n",
    "predictions = model.predict(X_test)"
   ]
  },
  {
   "cell_type": "code",
   "execution_count": 20,
   "metadata": {},
   "outputs": [
    {
     "name": "stdout",
     "output_type": "stream",
     "text": [
      "              precision    recall  f1-score   support\n",
      "\n",
      "           0       0.83      0.81      0.82       186\n",
      "           1       0.82      0.83      0.83       192\n",
      "\n",
      "    accuracy                           0.82       378\n",
      "   macro avg       0.82      0.82      0.82       378\n",
      "weighted avg       0.82      0.82      0.82       378\n",
      "\n",
      "0.8227513227513228\n"
     ]
    }
   ],
   "source": [
    "from sklearn.metrics import classification_report\n",
    "from sklearn.metrics import f1_score\n",
    "from sklearn.metrics import accuracy_score \n",
    "from sklearn.metrics import confusion_matrix\n",
    "\n",
    "print (classification_report(Xy_test[\"Label\"], predictions))\n",
    "print (accuracy_score(Xy_test[\"Label\"], predictions))"
   ]
  }
 ],
 "metadata": {
  "kernelspec": {
   "display_name": "Python 3",
   "language": "python",
   "name": "python3"
  },
  "language_info": {
   "codemirror_mode": {
    "name": "ipython",
    "version": 3
   },
   "file_extension": ".py",
   "mimetype": "text/x-python",
   "name": "python",
   "nbconvert_exporter": "python",
   "pygments_lexer": "ipython3",
   "version": "3.7.4"
  }
 },
 "nbformat": 4,
 "nbformat_minor": 4
}
